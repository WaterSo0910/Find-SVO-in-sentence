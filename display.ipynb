{
 "cells": [
  {
   "cell_type": "code",
   "execution_count": 45,
   "metadata": {},
   "outputs": [],
   "source": [
    "import spacy\n",
    "from spacy import displacy\n",
    "from pathlib import Path\n",
    "\n",
    "nlp = spacy.load(\"en_core_web_sm\")\n",
    "sentences = ['I love you',\n",
    "             'I am bee',\n",
    "             'I am drawn to her.',\n",
    "             'I was punished by her.',\n",
    "             'What you get is a nice thing.',\n",
    "             'What you get will be stolen by me.',\n",
    "             'There was an explosion',\n",
    "             'She bought me books',\n",
    "             'She seem like a tired bee',\n",
    "             'I want to be a bee',\n",
    "             'She and I want to be a bee or ball.',\n",
    "             \"Alan, who is a smart boy, plays tennis well.\"\n",
    "             ]\n"
   ]
  },
  {
   "cell_type": "code",
   "execution_count": 46,
   "metadata": {},
   "outputs": [],
   "source": [
    "for sent in sentences:\n",
    "    doc = nlp(sent)\n",
    "    svg = displacy.render(doc, style=\"dep\", jupyter=False)\n",
    "    file_name = '-'.join([w.text for w in doc if not w.is_punct]) + \".svg\"\n",
    "    output_path = Path(\"./images/\" + file_name)\n",
    "    output_path.open(\"w\", encoding=\"utf-8\").write(svg)"
   ]
  },
  {
   "cell_type": "code",
   "execution_count": null,
   "metadata": {},
   "outputs": [],
   "source": []
  }
 ],
 "metadata": {
  "interpreter": {
   "hash": "2be5faf79681da6f2a61fdfdd5405d65d042280f7fba6178067603e3a2925119"
  },
  "kernelspec": {
   "display_name": "Python 3.10.4 64-bit",
   "language": "python",
   "name": "python3"
  },
  "language_info": {
   "codemirror_mode": {
    "name": "ipython",
    "version": 3
   },
   "file_extension": ".py",
   "mimetype": "text/x-python",
   "name": "python",
   "nbconvert_exporter": "python",
   "pygments_lexer": "ipython3",
   "version": "3.10.4"
  },
  "orig_nbformat": 4
 },
 "nbformat": 4,
 "nbformat_minor": 2
}
